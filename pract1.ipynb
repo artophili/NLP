{
 "cells": [
  {
   "cell_type": "code",
   "execution_count": null,
   "id": "dd94b91b",
   "metadata": {},
   "outputs": [],
   "source": [
    "#1a-2\n",
    "''' \n",
    "Aim: Install NLTK packages.\n",
    "\n",
    "command to install NLTK:\n",
    "\n",
    "pip install nltk'''"
   ]
  },
  {
   "cell_type": "code",
   "execution_count": 3,
   "id": "4d5ed9ad",
   "metadata": {},
   "outputs": [
    {
     "name": "stdout",
     "output_type": "stream",
     "text": [
      "Text is converted into speech\n"
     ]
    }
   ],
   "source": [
    "#1b\n",
    "''' \n",
    "Aim: Convert the given text into speech.'''\n",
    "\n",
    "from gtts import gTTS\n",
    "import playsound\n",
    "import os\n",
    "mytext = \"Welcome to practical 1 of NLP\"\n",
    "language = \"en\"\n",
    "Myobj = gTTS(text=mytext, lang=language, slow=False)\n",
    "Myobj.save(\"myfile.mp3\")\n",
    "#playsound.playsound(\"myfile.mp3\") : Not recognized by the OS and throwing error The specified device is not open or is not recognized by MCI.\n",
    "audio_file = \"C:/Users/Artophilic/Datascience Bootcamp/NLP_pract/myfile.mp3\"\n",
    "os.system(f'start \"\" \"{audio_file}\"')\n",
    "print(\"Text is converted into speech\")"
   ]
  },
  {
   "cell_type": "code",
   "execution_count": 4,
   "id": "c313ccb0",
   "metadata": {},
   "outputs": [
    {
     "name": "stdout",
     "output_type": "stream",
     "text": [
      "welcome to practical one of NLP\n"
     ]
    }
   ],
   "source": [
    "#1C\n",
    "''' \n",
    "Aim: Convert the audio file speech into text.'''\n",
    "\n",
    "import speech_recognition as sr\n",
    "filename = \"C:/Users/Artophilic/Datascience Bootcamp/NLP_pract/myfile (1).wav\"\n",
    "#Initializing the recognizer\n",
    "r = sr.Recognizer()\n",
    "#Open the file\n",
    "with sr.AudioFile(filename) as source:\n",
    "    audio_data = r.record(source)\n",
    "    text = r.recognize_google(audio_data)\n",
    "    print(text)"
   ]
  }
 ],
 "metadata": {
  "kernelspec": {
   "display_name": "practvenv",
   "language": "python",
   "name": "python3"
  },
  "language_info": {
   "codemirror_mode": {
    "name": "ipython",
    "version": 3
   },
   "file_extension": ".py",
   "mimetype": "text/x-python",
   "name": "python",
   "nbconvert_exporter": "python",
   "pygments_lexer": "ipython3",
   "version": "3.12.8"
  }
 },
 "nbformat": 4,
 "nbformat_minor": 5
}
