{
 "cells": [
  {
   "cell_type": "code",
   "execution_count": null,
   "id": "d9152392",
   "metadata": {},
   "outputs": [],
   "source": [
    "#3a\n",
    "''' \n",
    "Aim: Study of Wordnet Dictionary with methods as synsets, definitions,\n",
    "examples, antonyms'''"
   ]
  },
  {
   "cell_type": "code",
   "execution_count": null,
   "id": "ac03e91a",
   "metadata": {},
   "outputs": [],
   "source": [
    "''' \n",
    "Notes about Wordnet\n",
    "1. Wordnet is a lexical database of the english language widely used in NLP\n",
    "2. It groups words into sets of synonyms called synsets.\n",
    "3. synsets() -> allows us to retrieve all the synonymns of a word.\n",
    "4. Each synset in wordnet contains a definition that describes the meaning.\n",
    "5. examples() -> Provides example sentences.\n",
    "6. antonyms() -> Wordnet supports retrieval of antonyms.\n",
    "7. Hypernyms : Generalization\n",
    "8. Hyponyms : Specific instances.\n",
    "9. Exploring WordNet provides insights into how words relate to one another \n",
    "'''"
   ]
  },
  {
   "cell_type": "code",
   "execution_count": 8,
   "id": "d9b60493",
   "metadata": {},
   "outputs": [
    {
     "name": "stdout",
     "output_type": "stream",
     "text": [
      "[Synset('dawn.n.01'), Synset('sunrise.n.02'), Synset('sunrise.n.03'), Synset('sunrise.s.01')]\n",
      "My word is Sunrise:- \n",
      " Definition: the first light of day\n",
      "Examples: ['we got up before dawn', 'they talked until morning']\n",
      "\n",
      "Antonym of word 'sunrise' is  sunset\n"
     ]
    },
    {
     "name": "stderr",
     "output_type": "stream",
     "text": [
      "[nltk_data] Downloading package wordnet to\n",
      "[nltk_data]     C:\\Users\\Artophilic\\AppData\\Roaming\\nltk_data...\n",
      "[nltk_data]   Package wordnet is already up-to-date!\n"
     ]
    }
   ],
   "source": [
    "import nltk\n",
    "nltk.download('wordnet')\n",
    "from nltk.corpus import wordnet\n",
    "\n",
    "#Getting all synsets for 'sunrise'\n",
    "print(wordnet.synsets(\"sunrise\"))\n",
    "\n",
    "#Definition and examples of the first synsets\n",
    "print(\"My word is Sunrise:- \\n\", \"Definition:\", wordnet.synset(\"sunrise.n.01\").definition())\n",
    "print(\"Examples:\", wordnet.synset(\"sunrise.n.01\").examples())\n",
    "\n",
    "sunrise = wordnet.synset(\"sunrise.n.01\")\n",
    "sunrise_lemmas = sunrise.lemmas()\n",
    "for lemma in sunrise_lemmas:\n",
    "    anto = lemma.antonyms()\n",
    "    if anto:\n",
    "        print(\"\\nAntonym of word 'sunrise' is \", anto[0].name())\n",
    "        break"
   ]
  },
  {
   "cell_type": "code",
   "execution_count": 10,
   "id": "ccc56a2e",
   "metadata": {},
   "outputs": [
    {
     "name": "stdout",
     "output_type": "stream",
     "text": [
      "[Synset('computer.n.01'), Synset('calculator.n.01')]\n",
      "['computer', 'computing_machine', 'computing_device', 'data_processor', 'electronic_computer', 'information_processing_system']\n",
      "Synset('computer.n.01') --> ['computer', 'computing_machine', 'computing_device', 'data_processor', 'electronic_computer', 'information_processing_system']\n",
      "Synset('calculator.n.01') --> ['calculator', 'reckoner', 'figurer', 'estimator', 'computer']\n",
      "[Lemma('computer.n.01.computer'), Lemma('computer.n.01.computing_machine'), Lemma('computer.n.01.computing_device'), Lemma('computer.n.01.data_processor'), Lemma('computer.n.01.electronic_computer'), Lemma('computer.n.01.information_processing_system')]\n",
      "Synset('computer.n.01')\n",
      "computing_device\n",
      "\n",
      "\n",
      "Hyponyms of computer:\n",
      "\n",
      "[Synset('analog_computer.n.01'), Synset('home_computer.n.01'), Synset('pari-mutuel_machine.n.01'), Synset('web_site.n.01'), Synset('node.n.08'), Synset('digital_computer.n.01'), Synset('predictor.n.03'), Synset('server.n.03'), Synset('turing_machine.n.01'), Synset('number_cruncher.n.02')]\n",
      "['analog_computer', 'analogue_computer', 'home_computer', 'pari-mutuel_machine', 'totalizer', 'totaliser', 'totalizator', 'totalisator', 'web_site', 'website', 'internet_site', 'site', 'node', 'client', 'guest', 'digital_computer', 'predictor', 'server', 'host', 'Turing_machine', 'number_cruncher']\n",
      "\n",
      "\n",
      "Hyponyms of vehicle:\n",
      "\n",
      "[Synset('wheeled_vehicle.n.01'), Synset('bumper_car.n.01'), Synset('rocket.n.01'), Synset('craft.n.02'), Synset('steamroller.n.02'), Synset('skibob.n.01'), Synset('sled.n.01'), Synset('military_vehicle.n.01')]\n",
      "['wheeled_vehicle', 'bumper_car', 'Dodgem', 'rocket', 'projectile', 'craft', 'steamroller', 'road_roller', 'skibob', 'sled', 'sledge', 'sleigh', 'military_vehicle']\n",
      "\n",
      "\n",
      "Hyponyms of car:\n",
      "\n",
      "[Synset('convertible.n.01'), Synset('subcompact.n.01'), Synset('touring_car.n.01'), Synset('gas_guzzler.n.01'), Synset('coupe.n.01'), Synset('pace_car.n.01'), Synset('beach_wagon.n.01'), Synset('stanley_steamer.n.01'), Synset('jeep.n.01'), Synset('electric.n.01'), Synset('loaner.n.02'), Synset('minicar.n.01'), Synset('compact.n.03'), Synset('hot_rod.n.01'), Synset('cruiser.n.01'), Synset('hatchback.n.01'), Synset('sedan.n.01'), Synset('stock_car.n.01'), Synset('sports_car.n.01'), Synset('racer.n.02'), Synset('hardtop.n.01'), Synset('model_t.n.01'), Synset('cab.n.03'), Synset('minivan.n.01'), Synset('limousine.n.01'), Synset('used-car.n.01'), Synset('bus.n.04'), Synset('horseless_carriage.n.01'), Synset('sport_utility.n.01'), Synset('ambulance.n.01'), Synset('roadster.n.01')]\n",
      "['convertible', 'subcompact', 'subcompact_car', 'touring_car', 'phaeton', 'tourer', 'gas_guzzler', 'coupe', 'pace_car', 'beach_wagon', 'station_wagon', 'wagon', 'estate_car', 'beach_waggon', 'station_waggon', 'waggon', 'Stanley_Steamer', 'jeep', 'landrover', 'electric', 'electric_automobile', 'electric_car', 'loaner', 'minicar', 'compact', 'compact_car', 'hot_rod', 'hot-rod', 'cruiser', 'police_cruiser', 'patrol_car', 'police_car', 'prowl_car', 'squad_car', 'hatchback', 'sedan', 'saloon', 'stock_car', 'sports_car', 'sport_car', 'racer', 'race_car', 'racing_car', 'hardtop', 'Model_T', 'cab', 'hack', 'taxi', 'taxicab', 'minivan', 'limousine', 'limo', 'used-car', 'secondhand_car', 'bus', 'jalopy', 'heap', 'horseless_carriage', 'sport_utility', 'sport_utility_vehicle', 'S.U.V.', 'SUV', 'ambulance', 'roadster', 'runabout', 'two-seater']\n",
      "[Synset('vehicle.n.01')]\n",
      "\n",
      "\n",
      "Vehicle Hypernyms:\n",
      "[Synset('conveyance.n.03')]\n",
      "['conveyance', 'transport']\n"
     ]
    },
    {
     "name": "stderr",
     "output_type": "stream",
     "text": [
      "[nltk_data] Downloading package wordnet to\n",
      "[nltk_data]     C:\\Users\\Artophilic\\AppData\\Roaming\\nltk_data...\n",
      "[nltk_data]   Package wordnet is already up-to-date!\n"
     ]
    }
   ],
   "source": [
    "#3b\n",
    "''' \n",
    "Aim: Study lemmas, hyponyms, hypernyms, entailments\n",
    "\n",
    "Lemma : Base form of word\n",
    "Hyponyms : words that represent a more specific instance of a broader category. Dog hyponym of animal\n",
    "Hypernym : More general category. Animal is hypernym of dog\n",
    "Entailments refer to situations where one word or phrase logically implies the truth of another.\n",
    "eg.  sentence \"She is a doctor\" entails \"She is a person.\"\n",
    "'''\n",
    "\n",
    "import nltk\n",
    "nltk.download('wordnet')\n",
    "from nltk.corpus import wordnet\n",
    "\n",
    "# Display synsets for the word \"computer\"\n",
    "print(wordnet.synsets(\"computer\"))\n",
    "\n",
    "# Display lemma names for the first synset of \"computer\"\n",
    "print(wordnet.synset(\"computer.n.01\").lemma_names())\n",
    "\n",
    "# Loop through all synsets of \"computer\" and print their lemma names\n",
    "for e in wordnet.synsets(\"computer\"):\n",
    "    print(f'{e} --> {e.lemma_names()}')\n",
    "\n",
    "# Display lemmas for the first synset of \"computer\"\n",
    "print(wordnet.synset('computer.n.01').lemmas())\n",
    "\n",
    "# Display synsets for a specific lemma\n",
    "print(wordnet.lemma('computer.n.01.computing_device').synset())\n",
    "\n",
    "# Display the name of a specific lemma\n",
    "print(wordnet.lemma('computer.n.01.computing_device').name())\n",
    "\n",
    "\n",
    "print(\"\\n\\nHyponyms of computer:\\n\")\n",
    "syn = wordnet.synset('computer.n.01')\n",
    "print(syn.hyponyms()) # Print hyponyms of 'computer'\n",
    "print([lemma.name() for synset in syn.hyponyms() for lemma in synset.lemmas()]) # List hyponym names\n",
    "\n",
    "print(\"\\n\\nHyponyms of vehicle:\\n\")\n",
    "vehicle = wordnet.synset('vehicle.n.01')\n",
    "print(vehicle.hyponyms()) # Print hyponyms of 'vehicle'\n",
    "print([lemma.name() for synset in vehicle.hyponyms() for lemma in synset.lemmas()]) # List hyponym names\n",
    "\n",
    "print(\"\\n\\nHyponyms of car:\\n\")\n",
    "car = wordnet.synset('car.n.01')\n",
    "print(car.hyponyms()) # Print hyponyms of 'car'\n",
    "print([lemma.name() for synset in car.hyponyms() for lemma in synset.lemmas()]) # List hyponym names\n",
    "\n",
    "# Find and print the lowest common hypernyms between 'car' and 'vehicle'\n",
    "print(car.lowest_common_hypernyms(vehicle))\n",
    "print(\"\\n\\nVehicle Hypernyms:\")\n",
    "vehi1 = wordnet.synset('vehicle.n.01')\n",
    "\n",
    "print(vehi1.hypernyms()) # Print hypernyms of 'vehicle'\n",
    "print([lemma.name() for synset in vehi1.hypernyms() for lemma in synset.lemmas()]) # List hypernym names\n"
   ]
  },
  {
   "cell_type": "markdown",
   "id": "0c5d3ef7",
   "metadata": {},
   "source": [
    "Output of Study lemmas, hyponyms, hypernyms, entailments\n",
    "\n",
    "[Synset('computer.n.01'), Synset('calculator.n.01')]\n",
    "['computer', 'computing_machine', 'computing_device', 'data_processor', 'electronic_computer', 'information_processing_system']\n",
    "Synset('computer.n.01') --> ['computer', 'computing_machine', 'computing_device', 'data_processor', 'electronic_computer', 'information_processing_system']\n",
    "Synset('calculator.n.01') --> ['calculator', 'reckoner', 'figurer', 'estimator', 'computer']\n",
    "[Lemma('computer.n.01.computer'), Lemma('computer.n.01.computing_machine'), Lemma('computer.n.01.computing_device'), Lemma('computer.n.01.data_processor'), Lemma('computer.n.01.electronic_computer'), Lemma('computer.n.01.information_processing_system')]\n",
    "Synset('computer.n.01')\n",
    "computing_device\n",
    "\n",
    "\n",
    "Hyponyms of computer:\n",
    "\n",
    "[Synset('analog_computer.n.01'), Synset('home_computer.n.01'), Synset('pari-mutuel_machine.n.01'), Synset('web_site.n.01'), Synset('node.n.08'), Synset('digital_computer.n.01'), Synset('predictor.n.03'), Synset('server.n.03'), Synset('turing_machine.n.01'), Synset('number_cruncher.n.02')]\n",
    "['analog_computer', 'analogue_computer', 'home_computer', 'pari-mutuel_machine', 'totalizer', 'totaliser', 'totalizator', 'totalisator', 'web_site', 'website', 'internet_site', 'site', 'node', 'client', 'guest', 'digital_computer', 'predictor', 'server', 'host', 'Turing_machine', 'number_cruncher']\n",
    "\n",
    "\n",
    "Hyponyms of vehicle:\n",
    "\n",
    "[Synset('wheeled_vehicle.n.01'), Synset('bumper_car.n.01'), Synset('rocket.n.01'), Synset('craft.n.02'), Synset('steamroller.n.02'), Synset('skibob.n.01'), Synset('sled.n.01'), Synset('military_vehicle.n.01')]\n",
    "['wheeled_vehicle', 'bumper_car', 'Dodgem', 'rocket', 'projectile', 'craft', 'steamroller', 'road_roller', 'skibob', 'sled', 'sledge', 'sleigh', 'military_vehicle']\n",
    "\n",
    "\n",
    "Hyponyms of car:\n",
    "\n",
    "[Synset('convertible.n.01'), Synset('subcompact.n.01'), Synset('touring_car.n.01'), Synset('gas_guzzler.n.01'), Synset('coupe.n.01'), Synset('pace_car.n.01'), Synset('beach_wagon.n.01'), Synset('stanley_steamer.n.01'), Synset('jeep.n.01'), Synset('electric.n.01'), Synset('loaner.n.02'), Synset('minicar.n.01'), Synset('compact.n.03'), Synset('hot_rod.n.01'), Synset('cruiser.n.01'), Synset('hatchback.n.01'), Synset('sedan.n.01'), Synset('stock_car.n.01'), Synset('sports_car.n.01'), Synset('racer.n.02'), Synset('hardtop.n.01'), Synset('model_t.n.01'), Synset('cab.n.03'), Synset('minivan.n.01'), Synset('limousine.n.01'), Synset('used-car.n.01'), Synset('bus.n.04'), Synset('horseless_carriage.n.01'), Synset('sport_utility.n.01'), Synset('ambulance.n.01'), Synset('roadster.n.01')]\n",
    "['convertible', 'subcompact', 'subcompact_car', 'touring_car', 'phaeton', 'tourer', 'gas_guzzler', 'coupe', 'pace_car', 'beach_wagon', 'station_wagon', 'wagon', 'estate_car', 'beach_waggon', 'station_waggon', 'waggon', 'Stanley_Steamer', 'jeep', 'landrover', 'electric', 'electric_automobile', 'electric_car', 'loaner', 'minicar', 'compact', 'compact_car', 'hot_rod', 'hot-rod', 'cruiser', 'police_cruiser', 'patrol_car', 'police_car', 'prowl_car', 'squad_car', 'hatchback', 'sedan', 'saloon', 'stock_car', 'sports_car', 'sport_car', 'racer', 'race_car', 'racing_car', 'hardtop', 'Model_T', 'cab', 'hack', 'taxi', 'taxicab', 'minivan', 'limousine', 'limo', 'used-car', 'secondhand_car', 'bus', 'jalopy', 'heap', 'horseless_carriage', 'sport_utility', 'sport_utility_vehicle', 'S.U.V.', 'SUV', 'ambulance', 'roadster', 'runabout', 'two-seater']\n",
    "[Synset('vehicle.n.01')]\n",
    "\n",
    "\n",
    "Vehicle Hypernyms:\n",
    "[Synset('conveyance.n.03')]\n",
    "['conveyance', 'transport']\n",
    "[nltk_data] Downloading package wordnet to\n",
    "[nltk_data]     C:\\Users\\Artophilic\\AppData\\Roaming\\nltk_data...\n",
    "[nltk_data]   Package wordnet is already up-to-date!"
   ]
  },
  {
   "cell_type": "code",
   "execution_count": 11,
   "id": "451fb57c",
   "metadata": {},
   "outputs": [
    {
     "name": "stdout",
     "output_type": "stream",
     "text": [
      "[Synset('active_agent.n.01'), Synset('active_voice.n.01'), Synset('active.n.03'), Synset('active.a.01'), Synset('active.s.02'), Synset('active.a.03'), Synset('active.s.04'), Synset('active.a.05'), Synset('active.a.06'), Synset('active.a.07'), Synset('active.s.08'), Synset('active.a.09'), Synset('active.a.10'), Synset('active.a.11'), Synset('active.a.12'), Synset('active.a.13'), Synset('active.a.14')]\n",
      "\n",
      " [Lemma('inactive.a.02.inactive')]\n"
     ]
    }
   ],
   "source": [
    "#3C\n",
    "''' \n",
    "Aim: Write a program using python to find synonym and antonym of word\n",
    "\"active\" using Wordnet\n",
    "'''\n",
    "from nltk.corpus import wordnet\n",
    "print(wordnet.synsets(\"active\"))\n",
    "print(\"\\n\", wordnet.lemma('active.a.01.active').antonyms())"
   ]
  },
  {
   "cell_type": "code",
   "execution_count": 13,
   "id": "a4a0076a",
   "metadata": {},
   "outputs": [
    {
     "name": "stdout",
     "output_type": "stream",
     "text": [
      "Path similarity of: \n",
      "Synset('football.n.01') ( n ) [ any of various games played with a ball (round or oval) in which two teams try to kick or carry or propel the ball into each other's goal ]\n",
      "Synset('soccer.n.01') ( n ) [ a football game in which two teams of 11 players try to kick or head a ball into the opponents' goal ]\n",
      " is 0.5\n",
      "Path similarity of: \n",
      "Synset('football.n.02') ( n ) [ the inflated oblong ball used in playing American football ]\n",
      "Synset('soccer.n.01') ( n ) [ a football game in which two teams of 11 players try to kick or head a ball into the opponents' goal ]\n",
      " is 0.05\n",
      "\n"
     ]
    }
   ],
   "source": [
    "#3d\n",
    "#Aim: Compare two nouns.\n",
    "''' \n",
    "Wordnet organizes nouns and other parts of speech into synsets and provides\n",
    "semantic relationships such as hyponyms, hypernyms, meronyms.\n",
    "\n",
    "To compare the noun: examine their semantic similarity, which can be calculated using the \n",
    "shortest path between two nouns in the WordNet hierarchy.\n",
    "\n",
    "path_similarity() method to calculate similarity score\n",
    "\n",
    "We can compare noun by comparing the semantic distance between two nouns.\n",
    "'''\n",
    "\n",
    "import nltk\n",
    "from nltk.corpus import wordnet\n",
    "syn1 = wordnet.synsets('football')\n",
    "syn2 = wordnet.synsets('soccer')\n",
    "# A word may have multiple synsets, so need to compare each synset of word1 with synset of word2\n",
    "for s1 in syn1:\n",
    "    for s2 in syn2:\n",
    "        print(\"Path similarity of: \")\n",
    "    print(s1, '(', s1.pos(), ')', '[', s1.definition(),']')\n",
    "    print(s2, '(', s2.pos(), ')', '[', s2.definition(),']')\n",
    "    print(\" is\", s1.path_similarity(s2))\n",
    "print()"
   ]
  },
  {
   "cell_type": "code",
   "execution_count": 14,
   "id": "8c79e09c",
   "metadata": {},
   "outputs": [
    {
     "name": "stderr",
     "output_type": "stream",
     "text": [
      "[nltk_data] Downloading package punkt_tab to\n",
      "[nltk_data]     C:\\Users\\Artophilic\\AppData\\Roaming\\nltk_data...\n",
      "[nltk_data]   Package punkt_tab is already up-to-date!\n",
      "[nltk_data] Downloading package stopwords to\n",
      "[nltk_data]     C:\\Users\\Artophilic\\AppData\\Roaming\\nltk_data...\n",
      "[nltk_data]   Unzipping corpora\\stopwords.zip.\n"
     ]
    },
    {
     "name": "stdout",
     "output_type": "stream",
     "text": [
      "['quick', 'brown', 'fox', 'jumps', 'lazy']\n",
      "['quick', 'brown', 'fox', 'jumps', 'lazy', 'dog', 'cat']\n",
      "['quick', 'brown', 'fox', 'jumps', 'lazy', 'dog', 'not', 'cat']\n"
     ]
    }
   ],
   "source": [
    "#3E\n",
    "''' \n",
    "Aim: Handling Stopwords\n",
    "'''\n",
    "\n",
    "#1. Using nltk Adding or Removing Stop Words in NLTK's Default Stop Word List\n",
    "import nltk\n",
    "from nltk.corpus import stopwords\n",
    "nltk.download('punkt_tab')\n",
    "nltk.download('stopwords')\n",
    "from nltk.tokenize import word_tokenize\n",
    "text = \"the quick brown fox jumps over the lazy dog but not a cat\"\n",
    "text_tokens = word_tokenize(text)\n",
    "tokens_without_sw = [word for word in text_tokens if not\n",
    "word in stopwords.words()]\n",
    "print(tokens_without_sw)\n",
    "all_stopwords = stopwords.words('english')\n",
    "all_stopwords.append('play')\n",
    "text_tokens = word_tokenize(text)\n",
    "tokens_without_sw = [word for word in text_tokens if not\n",
    "word in all_stopwords]\n",
    "print(tokens_without_sw)\n",
    "all_stopwords.remove('not')\n",
    "text_tokens = word_tokenize(text)\n",
    "tokens_without_sw = [word for word in text_tokens if not\n",
    "word in all_stopwords]\n",
    "print(tokens_without_sw)"
   ]
  },
  {
   "cell_type": "code",
   "execution_count": null,
   "id": "4ff9833f",
   "metadata": {},
   "outputs": [
    {
     "name": "stdout",
     "output_type": "stream",
     "text": [
      "Akshay likes sketch photographs, fond basketball.\n",
      "frozenset({'always', 'doing', 'both', 'around', 'for', 'he', 'cant', 'again', 'she', 'thereby', 'him', 'before', 'anyway', 'herself', 'own', 'back', 'almost', 'next', 'sometime', 'into', 'because', 'nevertheless', 'where', 'side', 'used', 'had', 'bill', 'moreover', 'hereafter', 'against', 'other', 'move', 'thick', 'you', 'afterwards', 'thereupon', 'get', 'i', 'doesn', 'a', 'between', 'hundred', 'all', 'thus', 're', 'eight', 'six', 'along', 'thru', 'fire', 'beside', 'indeed', 'even', 'de', 'my', 'hereupon', 'anything', 'nine', 'amongst', 'hasnt', 'however', 'is', 'keep', 'whole', 'since', 'besides', 'beforehand', 'mill', 'among', 'as', 'seeming', 'either', 'last', 'thereafter', 'be', 'neither', 'front', 'whereby', 'about', 'with', 'above', 'found', 'someone', 'very', 'describe', 'many', 'myself', 'in', 'show', 'up', 'km', 'been', 'also', 'top', 'us', 'during', 'still', 'became', 'being', 'may', 'whether', 'further', 'did', 'become', 'yourselves', 'well', 'twenty', 'why', 'do', 'and', 'part', 'otherwise', 'three', 'out', 'computer', 'while', 'yet', 'five', 'take', 'within', 'whence', 'regarding', 'nowhere', 'much', 'not', 'con', 'towards', 'twelve', 'its', 'see', 'himself', 'then', 'made', 'ourselves', 'through', 'once', 'under', 'same', 'were', 'those', 'find', 'etc', 'together', 'make', 'yours', 'using', 'unless', 'here', 'might', 'ours', 'four', 'when', 'only', 'really', 'are', 'various', 'often', 'would', 'call', 'how', 'didn', 'mine', 'inc', 'any', 'which', 'former', 'don', 'becoming', 'but', 'nobody', 'am', 'due', 'seemed', 'via', 'already', 'something', 'they', 'everything', 'ten', 'bottom', 'others', 'down', 'another', 'each', 'system', 'off', 'whatever', 'everyone', 'must', 'your', 'some', 'too', 'who', 'should', 'done', 'such', 'was', 'now', 'therefore', 'whereafter', 'never', 'least', 'perhaps', 'go', 'sixty', 'sometimes', 'eleven', 'whither', 'co', 'has', 'whereupon', 'fill', 'fifteen', 'yourself', 'except', 'our', 'behind', 'else', 'elsewhere', 'quite', 'hers', 'alone', 'me', 'these', 'onto', 'if', 'per', 'cry', 'everywhere', 'sincere', 'until', 'at', 'of', 'just', 'below', 'somewhere', 'thence', 'their', 'formerly', 'third', 'although', 'after', 'by', 'noone', 'herein', 'fifty', 'namely', 'his', 'what', 'ltd', 'ie', 'empty', 'couldnt', 'there', 'most', 'detail', 'wherever', 'wherein', 'to', 'hereby', 'nothing', 'several', 'interest', 'could', 'or', 'name', 'mostly', 'put', 'across', 'becomes', 'thin', 'will', 'itself', 'more', 'few', 'kg', 'though', 'forty', 'whom', 'than', 'eg', 'does', 'anyhow', 'without', 'on', 'anyone', 'have', 'themselves', 'this', 'therein', 'whose', 'beyond', 'an', 'amoungst', 'whereas', 'enough', 'first', 'her', 'amount', 'no', 'we', 'hence', 'upon', 'whenever', 'anywhere', 'un', 'serious', 'somehow', 'latter', 'please', 'say', 'latterly', 'them', 'rather', 'whoever', 'meanwhile', 'two', 'from', 'one', 'can', 'over', 'it', 'so', 'toward', 'throughout', 'that', 'seems', 'the', 'seem', 'give', 'nor', 'less', 'none', 'cannot', 'full', 'ever', 'every'})\n",
      "['Akshay', 'sketch', 'photographs', ',', 'fond', 'basketball', '.']\n",
      "['Akshay', 'likes', 'sketch', 'photographs', ',', 'not', 'fond', 'basketball', '.']\n"
     ]
    },
    {
     "name": "stderr",
     "output_type": "stream",
     "text": [
      "[nltk_data] Downloading package punkt to\n",
      "[nltk_data]     C:\\Users\\Artophilic\\AppData\\Roaming\\nltk_data...\n",
      "[nltk_data]   Package punkt is already up-to-date!\n",
      "[nltk_data] Downloading package stopwords to\n",
      "[nltk_data]     C:\\Users\\Artophilic\\AppData\\Roaming\\nltk_data...\n",
      "[nltk_data]   Package stopwords is already up-to-date!\n"
     ]
    }
   ],
   "source": [
    "#2. Using Gensim, add or remove stop words in Default Gensim stop words List.\n",
    "import gensim\n",
    "from gensim.parsing.preprocessing import remove_stopwords, STOPWORDS\n",
    "import nltk\n",
    "from nltk.tokenize import word_tokenize\n",
    "\n",
    "#Gensim: A NLTK library for topic modeling and text preprocessing.\n",
    "#remove_stopwords: A utility that removes stopwords from a string\n",
    "#STOPWORDS: A built-in set of english stopwords\n",
    "#word_tokenize: Breaks a sentence into words\n",
    "\n",
    "# Ensure necessary NLTK data is downloaded\n",
    "nltk.download('punkt')\n",
    "nltk.download('stopwords') \n",
    "\n",
    "text = \"Akshay likes to sketch and take photographs, however he is not too fond of basketball.\"\n",
    "\n",
    "# Remove stopwords from the text\n",
    "filtered_sentence = remove_stopwords(text)\n",
    "print(filtered_sentence)\n",
    "\n",
    "# Print all stopwords in Gensim\n",
    "all_stopwords = gensim.parsing.preprocessing.STOPWORDS\n",
    "print(all_stopwords)\n",
    "\n",
    "# The following script adds 'likes' and 'play' to the list of stopwords in Gensim\n",
    "all_stopwords_gensim = STOPWORDS.union(set(['likes', 'play']))\n",
    "\n",
    "# Tokenize the text\n",
    "text_tokens = word_tokenize(text)\n",
    "\n",
    "# Remove stopwords from the tokenized text\n",
    "tokens_without_sw = [word for word in text_tokens if word not in all_stopwords_gensim]\n",
    "print(tokens_without_sw)\n",
    "\n",
    "# The following script removes the word \"not\" from the set of stopwords in Gensim:\n",
    "sw_list = {\"not\"}\n",
    "all_stopwords_gensim = STOPWORDS.difference(sw_list)\n",
    "\n",
    "# Tokenize the text again\n",
    "text_tokens = word_tokenize(text)\n",
    "\n",
    "# Remove stopwords from the tokenized text (including the word \"not\")\n",
    "tokens_without_sw = [word for word in text_tokens if word not in all_stopwords_gensim]\n",
    "print(tokens_without_sw)"
   ]
  },
  {
   "cell_type": "code",
   "execution_count": 2,
   "id": "c269e892",
   "metadata": {},
   "outputs": [
    {
     "name": "stdout",
     "output_type": "stream",
     "text": [
      "['Akshay', 'likes', 'sketch', 'photographs', ',', 'fond', 'basketball', '.']\n",
      "['Akshay', 'likes', 'sketch', 'photographs', ',', 'not', 'fond', 'basketball', '.']\n"
     ]
    }
   ],
   "source": [
    "#3. Using SpaCy, , add or remove Stop Words in Default SpaCy stop words List.\n",
    "'''!python -m spacy download en_core_web_sm\n",
    "!python -m spacy download en'''\n",
    "import spacy\n",
    "import nltk\n",
    "from nltk.tokenize import word_tokenize\n",
    "\n",
    "# Load the spaCy model\n",
    "sp = spacy.load('en_core_web_sm')\n",
    "\n",
    "# Add the word 'play' to the NLTK stop word collection\n",
    "all_stopwords = sp.Defaults.stop_words\n",
    "all_stopwords.add(\"play\")\n",
    "text = \"Akshay likes to sketch and take photographs, however he is not too fond of basketball.\"\n",
    "\n",
    "# Tokenize the text\n",
    "text_tokens = word_tokenize(text)\n",
    "\n",
    "# Remove stopwords\n",
    "tokens_without_sw = [word for word in text_tokens if word not in all_stopwords]\n",
    "print(tokens_without_sw)\n",
    "\n",
    "# Remove 'not' from stop word collection\n",
    "all_stopwords.remove('not')\n",
    "\n",
    "# Tokenize the text again and remove stopwords\n",
    "tokens_without_sw = [word for word in text_tokens if word not in all_stopwords]\n",
    "print(tokens_without_sw)"
   ]
  }
 ],
 "metadata": {
  "kernelspec": {
   "display_name": "practvenv",
   "language": "python",
   "name": "python3"
  },
  "language_info": {
   "codemirror_mode": {
    "name": "ipython",
    "version": 3
   },
   "file_extension": ".py",
   "mimetype": "text/x-python",
   "name": "python",
   "nbconvert_exporter": "python",
   "pygments_lexer": "ipython3",
   "version": "3.12.8"
  }
 },
 "nbformat": 4,
 "nbformat_minor": 5
}
