{
 "cells": [
  {
   "cell_type": "code",
   "execution_count": null,
   "id": "658c401c",
   "metadata": {},
   "outputs": [
    {
     "name": "stdout",
     "output_type": "stream",
     "text": [
      "Input String: सुनो, कु छ आवाज़ आ रही है। फोन?\n",
      "Tokens: \n",
      "सुनो\n",
      ",\n",
      "कु\n",
      "छ\n",
      "आवाज़\n",
      "आ\n",
      "रही\n",
      "है\n",
      "।\n",
      "फोन\n",
      "?\n"
     ]
    }
   ],
   "source": [
    "#5A\n",
    "''' \n",
    "Aim: Word tokenization in Hindi\n",
    "'''\n",
    "import sys\n",
    "from indicnlp import common\n",
    "# The path to the local git repo for Indic NLP library\n",
    "INDIC_NLP_LIB_HOME=r\"indic_nlp_library\"\n",
    "\n",
    "# The path to the local git repo for Indic NLP Resources\n",
    "INDIC_NLP_RESOURCES=r\"indic_nlp_resources\"\n",
    "\n",
    "# Add library to Python path\n",
    "sys.path.append(r'{}\\src'.format(INDIC_NLP_LIB_HOME))\n",
    "\n",
    "# Set environment variable for resources folder\n",
    "common.set_resources_path(INDIC_NLP_RESOURCES)\n",
    "\n",
    "from indicnlp.tokenize import indic_tokenize\n",
    "indic_string='सुनो, कु छ आवाज़ आ रही है। फोन?'\n",
    "print('Input String: {}'.format(indic_string))\n",
    "print('Tokens: ')\n",
    "for t in indic_tokenize.trivial_tokenize(indic_string): print(t)"
   ]
  },
  {
   "cell_type": "code",
   "execution_count": 3,
   "id": "58e69a15",
   "metadata": {},
   "outputs": [
    {
     "name": "stdout",
     "output_type": "stream",
     "text": [
      "Original sentence: मैं आज बहुत खुश हूँ।\n",
      "Similar sentences:\n",
      "- मैं आज बहुत प्रसन्न हूँ।\n",
      "- मैं आज बहुत आनंदित हूँ।\n",
      "- मैं आज बहुत खुशी हूँ।\n",
      "- मैं आज अदिक खुश हूँ।\n",
      "- मैं आज बहुत ज्यादा खुश हूँ।\n"
     ]
    }
   ],
   "source": [
    "#5B\n",
    "''' \n",
    "Aim: Generate similar sentences from a given Hindi text input.'''\n",
    "synonyms = {\n",
    "\"खुश\": [\"प्रसन्न\", \"आनंदित\", \"खुशी\"],\n",
    "\"बहुत\": [\"अदिक\", \"बहुत ज्यादा\", \"काफी\"]\n",
    "}\n",
    "def generate_similar_sentences(input_sequence, num_sentences=5):\n",
    "    similar_sentences=[]\n",
    "    #replacing some words with synonyms\n",
    "    for word, word_synonyms in synonyms.items():\n",
    "        for synonym in word_synonyms:\n",
    "            modified_sentence = input_sentence.replace(word,synonym)\n",
    "            similar_sentences.append(modified_sentence)\n",
    "    return similar_sentences[:num_sentences]\n",
    "\n",
    "input_sentence=\"मैं आज बहुत खुश हूँ।\"\n",
    "\n",
    "similar_sentences= generate_similar_sentences(input_sentence)\n",
    "print(\"Original sentence:\",input_sentence)\n",
    "print(\"Similar sentences:\")\n",
    "for sentence in similar_sentences:\n",
    "    print(\"-\",sentence)"
   ]
  },
  {
   "cell_type": "code",
   "execution_count": 6,
   "id": "f74ecfa3",
   "metadata": {},
   "outputs": [
    {
     "name": "stdout",
     "output_type": "stream",
     "text": [
      "Identified language: hi\n",
      "Identified language: tl\n",
      "Identified language: ja\n"
     ]
    },
    {
     "name": "stderr",
     "output_type": "stream",
     "text": [
      "[nltk_data] Downloading package punkt to\n",
      "[nltk_data]     C:\\Users\\Artophilic\\AppData\\Roaming\\nltk_data...\n",
      "[nltk_data]   Package punkt is already up-to-date!\n"
     ]
    }
   ],
   "source": [
    "#5C\n",
    "''' \n",
    "Aim: Identify the Indian language from the given text.\n",
    "langid.py : It is used to detect the language by passing the text through\n",
    "langid.classify(): function used to classify'''\n",
    "\n",
    "import nltk\n",
    "import langid\n",
    "# Download necessary NLTK data\n",
    "nltk.download('punkt')\n",
    "def identify_language(text):\n",
    "    lang, _ = langid.classify(text)\n",
    "    return lang\n",
    "# Identify the Indian Language from the given text\n",
    "language = identify_language(\"नमस्ते, आप कै सेहैं?\")\n",
    "print(\"Identified language:\", language)\n",
    "\n",
    "lang = identify_language(\"Hello, I'm Akshay\")\n",
    "print(\"Identified language:\", lang)\n",
    "\n",
    "lang1 = identify_language(\"こんにちは！アクシャイです\")\n",
    "print(\"Identified language:\", lang1)\n"
   ]
  }
 ],
 "metadata": {
  "kernelspec": {
   "display_name": "practvenv",
   "language": "python",
   "name": "python3"
  },
  "language_info": {
   "codemirror_mode": {
    "name": "ipython",
    "version": 3
   },
   "file_extension": ".py",
   "mimetype": "text/x-python",
   "name": "python",
   "nbconvert_exporter": "python",
   "pygments_lexer": "ipython3",
   "version": "3.12.8"
  }
 },
 "nbformat": 4,
 "nbformat_minor": 5
}
